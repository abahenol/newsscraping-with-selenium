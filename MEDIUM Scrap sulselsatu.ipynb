{
 "cells": [
  {
   "cell_type": "markdown",
   "metadata": {},
   "source": [
    "# News Portal Scraping - sulselsatu.com\n",
    "With selenium package"
   ]
  },
  {
   "cell_type": "code",
   "execution_count": null,
   "metadata": {},
   "outputs": [],
   "source": [
    "#import package\n",
    "from time import sleep, strftime\n",
    "import pandas as pd\n",
    "from selenium import webdriver\n",
    "from selenium.common.exceptions import NoSuchElementException"
   ]
  },
  {
   "cell_type": "code",
   "execution_count": null,
   "metadata": {},
   "outputs": [],
   "source": [
    "#use Chrome Driver as Web Driver\n",
    "chromedriver_path = 'C:/Program Files/Chrome Driver/chromedriver.exe'\n",
    "driver = webdriver.Chrome(executable_path=chromedriver_path) # This will open the Chrome window\n",
    "sleep(2)"
   ]
  },
  {
   "cell_type": "code",
   "execution_count": null,
   "metadata": {},
   "outputs": [],
   "source": [
    "web_berita = ('https://www.sulselsatu.com/')\n",
    "driver.get(web_berita)"
   ]
  },
  {
   "cell_type": "markdown",
   "metadata": {},
   "source": [
    "## Main Process"
   ]
  },
  {
   "cell_type": "markdown",
   "metadata": {},
   "source": [
    "Scraping news of assassination in sulselsatu.com"
   ]
  },
  {
   "cell_type": "code",
   "execution_count": null,
   "metadata": {
    "scrolled": false
   },
   "outputs": [],
   "source": [
    "pembunuhan = []\n",
    "#looping for news portal page\n",
    "#change the range according with the needs\n",
    "for a in range(1,6): \n",
    "    web_berita = ('https://sulselsatu.com/page/'+str(a)+'?s=pembunuhan')\n",
    "    driver.get(web_berita)\n",
    "    sleep(2)\n",
    "    a = driver.find_elements_by_tag_name(\"h3\")[0:16]\n",
    "    text_a = []\n",
    "    #looping for news headline in a page\n",
    "    for k in a: \n",
    "        l = k.text\n",
    "        text_a.append(l)\n",
    "    #looping for get all the news content\n",
    "    try:\n",
    "        for m in range(0,16):\n",
    "            try:\n",
    "                driver.find_element_by_link_text(text_a[m]).click()\n",
    "                try :\n",
    "                    sleep(2)\n",
    "                    title = driver.find_element_by_tag_name(\"h1\").text\n",
    "                    time = driver.find_element_by_tag_name(\"time\").text\n",
    "                    place = driver.find_element_by_tag_name(\"strong\").text\n",
    "                    news_link = driver.current_url\n",
    "                    jenis_kriminal = \"pembunuhan\"\n",
    "                    try:\n",
    "                        isi = []\n",
    "                        tag_p = driver.find_elements_by_tag_name(\"p\")\n",
    "                        for q in range(0,2):\n",
    "                            isi.append(tag_p[q].text)\n",
    "                        isi_berita = ' '.join(isi)\n",
    "                    except:\n",
    "                        pass\n",
    "                    pembunuhan.append([title, time, place, news_link, jenis_kriminal, isi_berita])\n",
    "                    driver.get(web_berita)\n",
    "                except NoSuchElementException :\n",
    "                    driver.get(web_berita)\n",
    "            except NoSuchElementException :\n",
    "                driver.get(web_berita)\n",
    "    except IndexError:\n",
    "        pass"
   ]
  },
  {
   "cell_type": "markdown",
   "metadata": {},
   "source": [
    "## Save each dataset to csv"
   ]
  },
  {
   "cell_type": "code",
   "execution_count": null,
   "metadata": {},
   "outputs": [],
   "source": [
    "df = pd.DataFrame(pembunuhan, columns=[\"judul\", \"waktu\", \"tempat\", \"link\", \"jenis_kriminal\", \"isi_berita\"])\n",
    "df.to_csv(r'C:\\Users\\Salim Satriajati\\Documents\\Magang Big Data\\listberita\\sulsel\\pembunuhan.csv')"
   ]
  },
  {
   "cell_type": "code",
   "execution_count": null,
   "metadata": {},
   "outputs": [],
   "source": [
    "df"
   ]
  }
 ],
 "metadata": {
  "kernelspec": {
   "display_name": "Python 3",
   "language": "python",
   "name": "python3"
  },
  "language_info": {
   "codemirror_mode": {
    "name": "ipython",
    "version": 3
   },
   "file_extension": ".py",
   "mimetype": "text/x-python",
   "name": "python",
   "nbconvert_exporter": "python",
   "pygments_lexer": "ipython3",
   "version": "3.7.1"
  }
 },
 "nbformat": 4,
 "nbformat_minor": 2
}
